{
 "cells": [
  {
   "cell_type": "markdown",
   "metadata": {},
   "source": [
    "# 1.python基础作业"
   ]
  },
  {
   "cell_type": "markdown",
   "metadata": {},
   "source": [
    "1.1 type任意两个数值，输出float、int"
   ]
  },
  {
   "cell_type": "code",
   "execution_count": 1,
   "metadata": {},
   "outputs": [
    {
     "data": {
      "text/plain": [
       "float"
      ]
     },
     "execution_count": 1,
     "metadata": {},
     "output_type": "execute_result"
    }
   ],
   "source": [
    "type(1.0)"
   ]
  },
  {
   "cell_type": "code",
   "execution_count": 2,
   "metadata": {},
   "outputs": [
    {
     "data": {
      "text/plain": [
       "int"
      ]
     },
     "execution_count": 2,
     "metadata": {},
     "output_type": "execute_result"
    }
   ],
   "source": [
    "type(1)"
   ]
  },
  {
   "cell_type": "markdown",
   "metadata": {},
   "source": [
    "1.2给a、b、c赋值，输出结果为12，并判断a与b是否相等"
   ]
  },
  {
   "cell_type": "code",
   "execution_count": 3,
   "metadata": {},
   "outputs": [
    {
     "name": "stdout",
     "output_type": "stream",
     "text": [
      "12\n"
     ]
    },
    {
     "data": {
      "text/plain": [
       "False"
      ]
     },
     "execution_count": 3,
     "metadata": {},
     "output_type": "execute_result"
    }
   ],
   "source": [
    "a=11\n",
    "b=1\n",
    "print(a+b)\n",
    "a==b"
   ]
  },
  {
   "cell_type": "markdown",
   "metadata": {},
   "source": [
    "1.3要求用户输入1到100之间数字并判断，输入符合要求,如果是1-100以内的数字，输出“100以内的数字”，否则输出“区间以外的数字”。最后打印结果为100以内的数字。"
   ]
  },
  {
   "cell_type": "code",
   "execution_count": 8,
   "metadata": {},
   "outputs": [
    {
     "name": "stdout",
     "output_type": "stream",
     "text": [
      "请输入一个数字:3\n",
      "100以内的数字\n"
     ]
    }
   ],
   "source": [
    "def judge():\n",
    "    try:\n",
    "        x=int(input(\"请输入一个数字:\"))\n",
    "        res=\"100以内的数字\" if 1<= x<=100 else \"区间以外的数字\"\n",
    "        print(res)\n",
    "    except:\n",
    "        print(\"invaled input!\")\n",
    "judge()\n",
    "    "
   ]
  },
  {
   "cell_type": "raw",
   "metadata": {},
   "source": [
    "1.4   python单行注释和多行注解分别用什么?\n",
    "单行注释：\n",
    "#这是单行注释\n",
    "多行注释：\n",
    "\"\"\"\n",
    "这是\n",
    "多行\n",
    "注释！！！！！\n",
    "\"\"\"\n"
   ]
  },
  {
   "cell_type": "markdown",
   "metadata": {},
   "source": [
    "# 2 python进阶基础作业"
   ]
  },
  {
   "cell_type": "markdown",
   "metadata": {},
   "source": [
    "2.1有四个数字：1、2、3、4，能组成多少个互不相同且无重复数字的三位数？各是多少？"
   ]
  },
  {
   "cell_type": "code",
   "execution_count": 9,
   "metadata": {},
   "outputs": [
    {
     "name": "stdout",
     "output_type": "stream",
     "text": [
      "1 2 3\n",
      "1 2 4\n",
      "1 3 2\n",
      "1 3 4\n",
      "1 4 2\n",
      "1 4 3\n",
      "2 1 3\n",
      "2 1 4\n",
      "2 3 1\n",
      "2 3 4\n",
      "2 4 1\n",
      "2 4 3\n",
      "3 1 2\n",
      "3 1 4\n",
      "3 2 1\n",
      "3 2 4\n",
      "3 4 1\n",
      "3 4 2\n",
      "4 1 2\n",
      "4 1 3\n",
      "4 2 1\n",
      "4 2 3\n",
      "4 3 1\n",
      "4 3 2\n"
     ]
    }
   ],
   "source": [
    "for i in range(1,5):\n",
    "    for j in range(1,5):\n",
    "        for k in range(1,5):\n",
    "            if i!=j and j!=k and k!=i:\n",
    "                print(i, j, k)"
   ]
  },
  {
   "cell_type": "raw",
   "metadata": {},
   "source": [
    "2.2  a=[1, 2, 3, 4, 5], a[::2]=?, a[-2:] = ?\n",
    "a[::2]=[1,3,5]\n",
    "a[-2:]=[4,5]"
   ]
  },
  {
   "cell_type": "markdown",
   "metadata": {},
   "source": [
    "2.3 使用filter过滤[1,2,7,12,45,56,66]中的奇数，最后输出[2,12,56,66]"
   ]
  },
  {
   "cell_type": "code",
   "execution_count": 13,
   "metadata": {},
   "outputs": [
    {
     "data": {
      "text/plain": [
       "[2, 12, 56, 66]"
      ]
     },
     "execution_count": 13,
     "metadata": {},
     "output_type": "execute_result"
    }
   ],
   "source": [
    "def f(x):\n",
    "    if x%2==0:\n",
    "        return x\n",
    "list(filter(f,[1,2,7,12,45,56,66]))"
   ]
  },
  {
   "cell_type": "markdown",
   "metadata": {},
   "source": [
    "# 3. pandas数据处理作业"
   ]
  },
  {
   "cell_type": "markdown",
   "metadata": {},
   "source": [
    "3.1 读取excel数据并进行抽样resample()\n",
    "\n",
    "只保留data中的open，获取data的数据类型与后5个值："
   ]
  },
  {
   "cell_type": "code",
   "execution_count": 30,
   "metadata": {},
   "outputs": [
    {
     "name": "stdout",
     "output_type": "stream",
     "text": [
      "               datetime   close    high     low    open    volume\n",
      "0   2017-01-03 15:00:00  115.99  117.06  115.14  115.43  16232125\n",
      "1   2017-01-04 15:00:00  116.28  116.42  115.21  115.99  29656234\n",
      "2   2017-01-05 15:00:00  116.07  116.64  115.64  116.07  26436646\n",
      "3   2017-01-06 15:00:00  115.21  116.07  114.86  116.07  17195598\n",
      "4   2017-01-09 15:00:00  115.35  115.99  114.86  115.64  14908745\n",
      "5   2017-01-10 15:00:00  115.28  115.64  114.93  115.21   7996636\n",
      "6   2017-01-11 15:00:00  115.07  115.64  115.00  115.64   9166532\n",
      "7   2017-01-12 15:00:00  114.78  115.35  114.71  115.21   8295650\n",
      "8   2017-01-13 15:00:00  115.85  115.99  114.64  114.64  19024943\n",
      "9   2017-01-16 15:00:00  117.92  118.20  114.64  115.57  53249124\n",
      "10  2017-01-17 15:00:00  116.85  117.77  116.56  117.21  12555292\n",
      "11  2017-01-18 15:00:00  117.42  117.85  116.49  116.92  11478663\n",
      "12  2017-01-19 15:00:00  117.77  118.49  116.99  116.99  12180687\n",
      "13  2017-01-20 15:00:00  118.06  118.63  117.49  118.06  14285968\n",
      "14  2017-01-23 15:00:00  117.99  118.84  117.56  118.63  14615740\n",
      "15  2017-01-24 15:00:00  118.91  118.91  118.06  118.06  14985241\n",
      "16  2017-01-25 15:00:00  118.91  119.20  118.27  118.84  11284869\n",
      "17  2017-01-26 15:00:00  119.41  119.91  118.27  118.84   8602907\n",
      "18  2017-02-03 15:00:00  118.42  119.98  118.34  119.77   8171489\n",
      "19  2017-02-06 15:00:00  118.63  119.48  118.63  119.27  13455250\n",
      "20  2017-02-07 15:00:00  118.77  119.20  118.42  118.56  14757284\n",
      "21  2017-02-08 15:00:00  118.63  118.84  117.77  118.42  11238767\n",
      "22  2017-02-09 15:00:00  119.06  119.41  118.13  118.77  11393034\n",
      "23  2017-02-10 15:00:00  119.48  119.91  118.91  119.34  13983062\n",
      "24  2017-02-13 15:00:00  119.98  120.34  119.48  120.20  19992372\n",
      "25  2017-02-14 15:00:00  119.34  120.20  119.20  120.12  12987135\n",
      "26  2017-02-15 15:00:00  119.98  120.55  119.27  119.77  25687112\n",
      "27  2017-02-16 15:00:00  119.48  120.41  119.34  120.20  16325732\n",
      "28  2017-02-17 15:00:00  118.56  119.77  118.13  119.48  13863642\n",
      "29  2017-02-20 15:00:00  120.55  120.91  118.34  118.34  29915560\n",
      "..                  ...     ...     ...     ...     ...       ...\n",
      "185 2017-10-10 15:00:00  122.81  122.81  121.78  122.44  13475400\n",
      "186 2017-10-11 15:00:00  122.44  122.91  122.16  122.34   9654900\n",
      "187 2017-10-12 15:00:00  122.34  122.72  121.59  122.34   8363600\n",
      "188 2017-10-13 15:00:00  121.31  122.62  121.22  122.16  11271700\n",
      "189 2017-10-16 15:00:00  122.25  122.44  121.31  121.59  11832600\n",
      "190 2017-10-17 15:00:00  121.78  122.44  121.41  122.16   7934100\n",
      "191 2017-10-18 15:00:00  122.53  122.72  121.22  121.87  22599700\n",
      "192 2017-10-19 15:00:00  123.09  123.37  121.69  122.25  28931900\n",
      "193 2017-10-20 15:00:00  121.97  122.81  121.97  122.53   8716900\n",
      "194 2017-10-23 15:00:00  120.37  122.16  120.28  122.06  15590300\n",
      "195 2017-10-24 15:00:00  120.56  121.41  120.19  120.37  12571800\n",
      "196 2017-10-25 15:00:00  120.94  121.31  120.19  120.56  10200400\n",
      "197 2017-10-26 15:00:00  120.19  120.75  119.81  120.75  12938000\n",
      "198 2017-10-27 15:00:00  120.47  121.31  120.19  120.37  15482700\n",
      "199 2017-10-30 15:00:00  119.06  120.19  118.03  120.19  37086800\n",
      "200 2017-10-31 15:00:00  118.22  118.69  117.94  118.22   9330200\n",
      "201 2017-11-01 15:00:00  117.56  119.25  117.47  118.12  16948000\n",
      "202 2017-11-02 15:00:00  117.47  117.75  116.53  117.37  23219200\n",
      "203 2017-11-03 15:00:00  117.94  118.12  116.53  117.47  15786000\n",
      "204 2017-11-06 15:00:00  116.91  117.56  116.72  117.56   9785200\n",
      "205 2017-11-07 15:00:00  117.56  118.12  116.34  116.91  19003800\n",
      "206 2017-11-08 15:00:00  117.94  118.87  117.19  117.47  18500100\n",
      "207 2017-11-09 15:00:00  117.66  118.41  117.47  117.84   8739900\n",
      "208 2017-11-10 15:00:00  118.41  118.41  116.81  117.56  24748600\n",
      "209 2017-11-13 15:00:00  120.00  120.47  118.41  118.59  41250100\n",
      "210 2017-11-14 15:00:00  118.12  119.72  117.94  119.62  17172100\n",
      "211 2017-11-15 15:00:00  118.12  118.41  117.66  117.84  14029600\n",
      "212 2017-11-16 15:00:00  116.16  117.75  116.06  117.75  18042800\n",
      "213 2017-11-17 15:00:00  119.81  120.00  116.25  116.25  53475100\n",
      "214 2017-11-20 15:00:00  120.47  120.56  118.22  118.97  29413900\n",
      "\n",
      "[215 rows x 6 columns]\n"
     ]
    },
    {
     "data": {
      "text/plain": [
       "210    119.62\n",
       "211    117.84\n",
       "212    117.75\n",
       "213    116.25\n",
       "214    118.97\n",
       "Name: open, dtype: float64"
      ]
     },
     "execution_count": 30,
     "metadata": {},
     "output_type": "execute_result"
    }
   ],
   "source": [
    "import pandas as pd\n",
    "data=pd.read_excel('C:\\\\Users\\\\gusto\\\\desktop\\\\sz50.xlsx')\n",
    "print(data)\n",
    "open_data=data['open']\n",
    "open_data.tail()"
   ]
  },
  {
   "cell_type": "markdown",
   "metadata": {},
   "source": [
    "3.2 表示在【0-31】这32个数字中分成8行4列  "
   ]
  },
  {
   "cell_type": "code",
   "execution_count": 32,
   "metadata": {},
   "outputs": [
    {
     "data": {
      "text/plain": [
       "array([[ 0,  1,  2,  3],\n",
       "       [ 4,  5,  6,  7],\n",
       "       [ 8,  9, 10, 11],\n",
       "       [12, 13, 14, 15],\n",
       "       [16, 17, 18, 19],\n",
       "       [20, 21, 22, 23],\n",
       "       [24, 25, 26, 27],\n",
       "       [28, 29, 30, 31]])"
      ]
     },
     "execution_count": 32,
     "metadata": {},
     "output_type": "execute_result"
    }
   ],
   "source": [
    "import numpy as np\n",
    "np.array(range(0,32)).reshape(8,4)"
   ]
  },
  {
   "cell_type": "markdown",
   "metadata": {},
   "source": [
    "3.3 将第5个到第7个改为12  \n",
    "arr=np.arange(10)  最后输出结果为[ 0  1  2  3  4 12 12 12  8  9]"
   ]
  },
  {
   "cell_type": "code",
   "execution_count": 35,
   "metadata": {},
   "outputs": [
    {
     "name": "stdout",
     "output_type": "stream",
     "text": [
      "[ 0  1  2  3  4 12 12 12  8  9]\n"
     ]
    }
   ],
   "source": [
    "arr=np.arange(10)\n",
    "arr[5:8]=12\n",
    "print(arr)"
   ]
  },
  {
   "cell_type": "markdown",
   "metadata": {},
   "source": [
    "3.4如何方便的计算两个时间的差，如两个时间相差几天，几小时等，写出代码，列出式子"
   ]
  },
  {
   "cell_type": "code",
   "execution_count": null,
   "metadata": {},
   "outputs": [],
   "source": []
  },
  {
   "cell_type": "markdown",
   "metadata": {},
   "source": [
    "# 4.数据计算与统计作业"
   ]
  },
  {
   "cell_type": "markdown",
   "metadata": {},
   "source": [
    "4.1 计算股票600104、600518的协方差"
   ]
  },
  {
   "cell_type": "code",
   "execution_count": null,
   "metadata": {},
   "outputs": [],
   "source": []
  },
  {
   "cell_type": "code",
   "execution_count": null,
   "metadata": {},
   "outputs": [],
   "source": []
  },
  {
   "cell_type": "code",
   "execution_count": null,
   "metadata": {},
   "outputs": [],
   "source": []
  },
  {
   "cell_type": "code",
   "execution_count": null,
   "metadata": {},
   "outputs": [],
   "source": []
  },
  {
   "cell_type": "markdown",
   "metadata": {},
   "source": [
    "4.2 投一个骰子，1\\6概率为6，投了6次，重复60轮，平均每轮骰子为6的次数时多少？"
   ]
  },
  {
   "cell_type": "code",
   "execution_count": 48,
   "metadata": {},
   "outputs": [
    {
     "data": {
      "text/plain": [
       "0.9833333333333333"
      ]
     },
     "execution_count": 48,
     "metadata": {},
     "output_type": "execute_result"
    }
   ],
   "source": [
    "def imatate():\n",
    "    import random\n",
    "    cnt=0\n",
    "    for i in range(60):\n",
    "        tem=[]\n",
    "        for j in range(6):\n",
    "            rNum=random.randint(1,6)\n",
    "            tem.append(rNum)\n",
    "        cnt+= tem.count(6)\n",
    "    return cnt/60\n",
    "imatate()"
   ]
  },
  {
   "cell_type": "code",
   "execution_count": null,
   "metadata": {},
   "outputs": [],
   "source": []
  },
  {
   "cell_type": "markdown",
   "metadata": {},
   "source": [
    "4.3 读取股票600030数据，并利用talib模块，制作CCI的绘图，周期默认为10"
   ]
  },
  {
   "cell_type": "code",
   "execution_count": null,
   "metadata": {},
   "outputs": [],
   "source": []
  },
  {
   "cell_type": "code",
   "execution_count": null,
   "metadata": {},
   "outputs": [],
   "source": []
  },
  {
   "cell_type": "code",
   "execution_count": null,
   "metadata": {},
   "outputs": [],
   "source": []
  },
  {
   "cell_type": "markdown",
   "metadata": {},
   "source": [
    "# 5 分析工具"
   ]
  },
  {
   "cell_type": "markdown",
   "metadata": {},
   "source": [
    "数据时间：  'start_date': 20140101, 'end_date': 20180101, '"
   ]
  },
  {
   "cell_type": "markdown",
   "metadata": {},
   "source": [
    "5.1 用alphalens分析沪深300成分股里ps因子在5日、30日、60日持有期下的因子表现。\n",
    "（要求：绘出quantiles=10的各quantile累积收益曲线，并绘出各持有期下的因子每日IC分布图和月均IC热度图）"
   ]
  },
  {
   "cell_type": "code",
   "execution_count": null,
   "metadata": {},
   "outputs": [],
   "source": []
  },
  {
   "cell_type": "code",
   "execution_count": null,
   "metadata": {},
   "outputs": [],
   "source": []
  },
  {
   "cell_type": "code",
   "execution_count": null,
   "metadata": {},
   "outputs": [],
   "source": []
  },
  {
   "cell_type": "code",
   "execution_count": null,
   "metadata": {},
   "outputs": [],
   "source": []
  },
  {
   "cell_type": "code",
   "execution_count": null,
   "metadata": {},
   "outputs": [],
   "source": []
  },
  {
   "cell_type": "code",
   "execution_count": null,
   "metadata": {},
   "outputs": [],
   "source": []
  },
  {
   "cell_type": "code",
   "execution_count": null,
   "metadata": {},
   "outputs": [],
   "source": []
  },
  {
   "cell_type": "markdown",
   "metadata": {},
   "source": [
    "5.2 用signaldigger分析沪深300成分股里pe因子在5日、30日、60日持有期下的因子表现。\n",
    "（要求：a.过滤掉非沪深300成分股。b.定义可买入卖出的条件-未停牌、未涨跌停 c.用开盘价计算持有期收益 d.调用因子指标分析和可视化分析的方法，查看效果)"
   ]
  },
  {
   "cell_type": "code",
   "execution_count": null,
   "metadata": {},
   "outputs": [],
   "source": []
  },
  {
   "cell_type": "code",
   "execution_count": null,
   "metadata": {},
   "outputs": [],
   "source": []
  },
  {
   "cell_type": "code",
   "execution_count": null,
   "metadata": {},
   "outputs": [],
   "source": []
  },
  {
   "cell_type": "code",
   "execution_count": null,
   "metadata": {},
   "outputs": [],
   "source": []
  },
  {
   "cell_type": "markdown",
   "metadata": {},
   "source": [
    "5.3 用add_formula方法定义反转因子：\n",
    "* Divert:最近20天收盘价（close_adj）与成交量（volume）的相关系数"
   ]
  },
  {
   "cell_type": "code",
   "execution_count": null,
   "metadata": {},
   "outputs": [],
   "source": []
  },
  {
   "cell_type": "markdown",
   "metadata": {},
   "source": [
    "5.4 用append_df方法定义CCI （提示：a. 需处理好停牌期的K线数据 b.可以用内置好的signal_function_mod.ta方法调用talib库计算CCI）"
   ]
  },
  {
   "cell_type": "code",
   "execution_count": null,
   "metadata": {},
   "outputs": [],
   "source": []
  },
  {
   "cell_type": "code",
   "execution_count": null,
   "metadata": {},
   "outputs": [],
   "source": []
  },
  {
   "cell_type": "code",
   "execution_count": null,
   "metadata": {},
   "outputs": [],
   "source": []
  },
  {
   "cell_type": "code",
   "execution_count": null,
   "metadata": {},
   "outputs": [],
   "source": []
  }
 ],
 "metadata": {
  "kernelspec": {
   "display_name": "Python 3",
   "language": "python",
   "name": "python3"
  },
  "language_info": {
   "codemirror_mode": {
    "name": "ipython",
    "version": 3
   },
   "file_extension": ".py",
   "mimetype": "text/x-python",
   "name": "python",
   "nbconvert_exporter": "python",
   "pygments_lexer": "ipython3",
   "version": "3.7.1"
  }
 },
 "nbformat": 4,
 "nbformat_minor": 2
}
